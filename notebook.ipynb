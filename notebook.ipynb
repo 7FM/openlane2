{
    "cells": [
        {
            "cell_type": "markdown",
            "metadata": {},
            "source": [
                "## OpenLane Colab\n",
                "\n",
                "This Google Colab notebook will:\n",
                "* Install OpenLane and its dependencies\n",
                "* Run a simple design, namely a serial-parallel multiplier, through the flow\n",
                "  and targeting the [open source sky130 PDK](https://github.com/google/skywater-pdk/)\n",
                "  by Google and Skywater."
            ]
        },
        {
            "cell_type": "code",
            "execution_count": null,
            "metadata": {},
            "outputs": [],
            "source": [
                "#@title Install Nix {display-mode: \"form\"}\n",
                "#@markdown <img src=\"https://raw.githubusercontent.com/NixOS/nixos-artwork/master/logo/nix-snowflake.svg\" width=\"32\"/>\n",
                "#@markdown\n",
                "#@markdown Nix is a package manager with an emphasis on reproducible builds,\n",
                "#@markdown and it is the primary method for installing OpenLane 2.\n",
                "!sh <(curl -L https://nixos.org/nix/install) --daemon --yes\n",
                "%env PATH=/nix/var/nix/profiles/default/bin/:{os.getenv(\"PATH\")}\n",
                "!nix-env -iA cachix -f https://cachix.org/api/v1/install\n",
                "!USER=root cachix use openlane"
            ]
        },
        {
            "cell_type": "code",
            "execution_count": null,
            "metadata": {},
            "outputs": [],
            "source": [
                "#@title Get OpenLane {display-mode: \"form\"}\n",
                "#@markdown Click the ▷ button to download and install OpenLane.\n",
                "#@markdown\n",
                "#@markdown This will install OpenLane's tool dependencies using Nix,\n",
                "#@markdown and OpenLane itself using PIP.\n",
                "\n",
                "openlane_version = 'latest' #@param {key:\"OpenLane Version\", type:\"string\"}\n",
                "\n",
                "if openlane_version == 'latest':\n",
                "  openlane_version = 'main'\n",
                "\n",
                "!curl -L \"https://github.com/efabless/openlane2/tarball/{main}\" | tar -xzC . --strip-components 1\n",
                "tool_derivations = [\n",
                "  \"klayout.nix\",\n",
                "  \"magic.nix\",\n",
                "  \"netgen.nix\",\n",
                "  \"openroad.nix\",\n",
                "  \"yosys.nix\"\n",
                "]\n",
                "for derivation in tool_derivations:\n",
                "  !nix-env -i -f ./nix/{derivation}\n",
                "!pip3 install -r ./requirements.txt\n",
                "!volare enable $(cat ./openlane/open_pdks_rev)"
            ]
        },
        {
            "cell_type": "code",
            "execution_count": null,
            "metadata": {},
            "outputs": [],
            "source": [
                "import openlane\n",
                "\n",
                "print(openlane.__version__)"
            ]
        },
        {
            "cell_type": "code",
            "execution_count": null,
            "metadata": {},
            "outputs": [],
            "source": [
                "from openlane.config import Config\n",
                "\n",
                "Config.interactive(\n",
                "    \"spm\",\n",
                "    PDK=\"sky130A\",\n",
                "    CLOCK_PORT=\"clk\",\n",
                "    CLOCK_NET=\"clk\",\n",
                "    CLOCK_PERIOD=10,\n",
                "    PRIMARY_SIGNOFF_TOOL=\"klayout\",\n",
                ")"
            ]
        },
        {
            "cell_type": "code",
            "execution_count": null,
            "metadata": {},
            "outputs": [],
            "source": [
                "from openlane.steps.yosys import Synthesis\n",
                "\n",
                "Synthesis.display_help()"
            ]
        },
        {
            "cell_type": "code",
            "execution_count": null,
            "metadata": {
                "scrolled": true
            },
            "outputs": [],
            "source": [
                "synthesis = Synthesis(\n",
                "    VERILOG_FILES=[\"./src/spm.v\"],\n",
                ")\n",
                "synthesis.start()"
            ]
        },
        {
            "cell_type": "code",
            "execution_count": null,
            "metadata": {},
            "outputs": [],
            "source": [
                "display(synthesis)"
            ]
        },
        {
            "cell_type": "code",
            "execution_count": null,
            "metadata": {},
            "outputs": [],
            "source": [
                "from openlane.steps.misc import LoadBaseSDC\n",
                "\n",
                "sdc = LoadBaseSDC()\n",
                "sdc.start()"
            ]
        },
        {
            "cell_type": "code",
            "execution_count": null,
            "metadata": {},
            "outputs": [],
            "source": [
                "from openlane.steps.openroad import Floorplan\n",
                "\n",
                "floorplan = Floorplan()\n",
                "floorplan.start()"
            ]
        },
        {
            "cell_type": "code",
            "execution_count": null,
            "metadata": {},
            "outputs": [],
            "source": [
                "display(floorplan)"
            ]
        },
        {
            "cell_type": "code",
            "execution_count": null,
            "metadata": {},
            "outputs": [],
            "source": [
                "from openlane.steps.openroad import TapEndcapInsertion\n",
                "\n",
                "tdi = TapEndcapInsertion()\n",
                "tdi.start()"
            ]
        },
        {
            "cell_type": "code",
            "execution_count": null,
            "metadata": {},
            "outputs": [],
            "source": [
                "display(tdi)"
            ]
        },
        {
            "cell_type": "code",
            "execution_count": null,
            "metadata": {
                "scrolled": true
            },
            "outputs": [],
            "source": [
                "from openlane.steps.openroad import IOPlacement\n",
                "\n",
                "ioplace = IOPlacement()\n",
                "ioplace.start()"
            ]
        },
        {
            "cell_type": "code",
            "execution_count": null,
            "metadata": {},
            "outputs": [],
            "source": [
                "display(ioplace)"
            ]
        },
        {
            "cell_type": "code",
            "execution_count": null,
            "metadata": {
                "scrolled": true
            },
            "outputs": [],
            "source": [
                "from openlane.steps.openroad import GeneratePDN\n",
                "\n",
                "pdn = GeneratePDN()\n",
                "pdn.start()"
            ]
        },
        {
            "cell_type": "code",
            "execution_count": null,
            "metadata": {},
            "outputs": [],
            "source": [
                "display(pdn)"
            ]
        },
        {
            "cell_type": "code",
            "execution_count": null,
            "metadata": {},
            "outputs": [],
            "source": [
                "from openlane.steps.openroad import GlobalPlacement\n",
                "\n",
                "gpl = GlobalPlacement()\n",
                "gpl.start()"
            ]
        },
        {
            "cell_type": "code",
            "execution_count": null,
            "metadata": {},
            "outputs": [],
            "source": [
                "display(gpl)"
            ]
        },
        {
            "cell_type": "code",
            "execution_count": null,
            "metadata": {},
            "outputs": [],
            "source": [
                "from openlane.steps.openroad import DetailedPlacement\n",
                "\n",
                "dpl = DetailedPlacement()\n",
                "dpl.start()"
            ]
        },
        {
            "cell_type": "code",
            "execution_count": null,
            "metadata": {},
            "outputs": [],
            "source": [
                "display(dpl)"
            ]
        },
        {
            "cell_type": "code",
            "execution_count": null,
            "metadata": {},
            "outputs": [],
            "source": [
                "from openlane.steps.openroad import CTS\n",
                "\n",
                "cts = CTS()\n",
                "cts.start()"
            ]
        },
        {
            "cell_type": "code",
            "execution_count": null,
            "metadata": {},
            "outputs": [],
            "source": [
                "display(cts)"
            ]
        },
        {
            "cell_type": "code",
            "execution_count": null,
            "metadata": {},
            "outputs": [],
            "source": [
                "from openlane.steps.openroad import GlobalRouting\n",
                "\n",
                "grt = GlobalRouting()\n",
                "grt.start()"
            ]
        },
        {
            "cell_type": "code",
            "execution_count": null,
            "metadata": {},
            "outputs": [],
            "source": [
                "display(grt)"
            ]
        },
        {
            "cell_type": "code",
            "execution_count": null,
            "metadata": {},
            "outputs": [],
            "source": [
                "from openlane.steps.openroad import DetailedRouting\n",
                "\n",
                "drt = DetailedRouting()\n",
                "drt.start()"
            ]
        },
        {
            "cell_type": "code",
            "execution_count": null,
            "metadata": {},
            "outputs": [],
            "source": [
                "display(grt)"
            ]
        },
        {
            "cell_type": "code",
            "execution_count": null,
            "metadata": {},
            "outputs": [],
            "source": [
                "from openlane.steps.openroad import DetailedRouting\n",
                "\n",
                "drt = DetailedRouting()\n",
                "drt.start()"
            ]
        },
        {
            "cell_type": "code",
            "execution_count": null,
            "metadata": {},
            "outputs": [],
            "source": [
                "display(drt)"
            ]
        },
        {
            "cell_type": "code",
            "execution_count": null,
            "metadata": {},
            "outputs": [],
            "source": [
                "from openlane.steps.openroad import FillInsertion\n",
                "\n",
                "fill = FillInsertion()\n",
                "fill.start()"
            ]
        },
        {
            "cell_type": "code",
            "execution_count": null,
            "metadata": {},
            "outputs": [],
            "source": [
                "display(fill)"
            ]
        },
        {
            "cell_type": "code",
            "execution_count": null,
            "metadata": {},
            "outputs": [],
            "source": [
                "from openlane.steps.klayout import StreamOut\n",
                "\n",
                "gds = StreamOut()\n",
                "gds.start()"
            ]
        },
        {
            "cell_type": "code",
            "execution_count": null,
            "metadata": {},
            "outputs": [],
            "source": [
                "display(gds)"
            ]
        },
        {
            "cell_type": "code",
            "execution_count": null,
            "metadata": {},
            "outputs": [],
            "source": []
        }
    ],
    "metadata": {
        "kernelspec": {
            "display_name": "Python 3 (ipykernel)",
            "language": "python",
            "name": "python3"
        },
        "language_info": {
            "codemirror_mode": {
                "name": "ipython",
                "version": 3
            },
            "file_extension": ".py",
            "mimetype": "text/x-python",
            "name": "python",
            "nbconvert_exporter": "python",
            "pygments_lexer": "ipython3",
            "version": "3.10.9"
        },
        "vscode": {
            "interpreter": {
                "hash": "259a389b4057ccde35404af821e33afdf5883d9f2d987c370b23bfef9f2c3eb5"
            }
        }
    },
    "nbformat": 4,
    "nbformat_minor": 2
}
