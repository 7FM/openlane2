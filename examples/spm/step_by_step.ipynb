{
 "cells": [
  {
   "cell_type": "code",
   "execution_count": 8,
   "metadata": {},
   "outputs": [],
   "source": [
    "!pkill -x python3"
   ]
  },
  {
   "cell_type": "code",
   "execution_count": null,
   "metadata": {},
   "outputs": [],
   "source": [
    "from openlane.config.builder import ConfigBuilder\n",
    "\n",
    "config = ConfigBuilder.per_step(\"spm\", PDK=\"sky130A\", CLOCK_PORT=\"clk\", CLOCK_PERIOD=10)"
   ]
  },
  {
   "cell_type": "code",
   "execution_count": null,
   "metadata": {},
   "outputs": [],
   "source": [
    "from openlane.steps.yosys import Synthesis\n",
    "\n",
    "Synthesis.display_help()"
   ]
  },
  {
   "cell_type": "code",
   "execution_count": null,
   "metadata": {},
   "outputs": [],
   "source": [
    "synthesized = Synthesis(\n",
    "    config=config,\n",
    "    VERILOG_FILES=[\"./src/spm.v\"],\n",
    ").start()"
   ]
  },
  {
   "cell_type": "code",
   "execution_count": null,
   "metadata": {},
   "outputs": [],
   "source": [
    "display(synthesized)"
   ]
  },
  {
   "cell_type": "code",
   "execution_count": null,
   "metadata": {},
   "outputs": [],
   "source": [
    "from openlane.steps.openroad import Floorplan\n",
    "\n",
    "floorplanned = Floorplan(config=config, state_in=synthesized).start()"
   ]
  },
  {
   "cell_type": "code",
   "execution_count": null,
   "metadata": {},
   "outputs": [],
   "source": [
    "display(floorplanned)"
   ]
  },
  {
   "cell_type": "code",
   "execution_count": null,
   "metadata": {
    "scrolled": false
   },
   "outputs": [],
   "source": [
    "from openlane.steps.openroad import IOPlacement\n",
    "\n",
    "ioplaced = IOPlacement(config=config, state_in=floorplanned).start()"
   ]
  },
  {
   "cell_type": "code",
   "execution_count": null,
   "metadata": {},
   "outputs": [],
   "source": [
    "display(ioplaced)"
   ]
  },
  {
   "cell_type": "code",
   "execution_count": null,
   "metadata": {
    "scrolled": false
   },
   "outputs": [],
   "source": [
    "from openlane.steps.openroad import GlobalPlacement\n",
    "\n",
    "gplaced = GlobalPlacement(config=config, state_in=ioplaced).start()"
   ]
  },
  {
   "cell_type": "code",
   "execution_count": null,
   "metadata": {},
   "outputs": [],
   "source": [
    "display(gplaced)"
   ]
  }
 ],
 "metadata": {
  "kernelspec": {
   "display_name": "Python 3",
   "language": "python",
   "name": "python3"
  },
  "language_info": {
   "codemirror_mode": {
    "name": "ipython",
    "version": 3
   },
   "file_extension": ".py",
   "mimetype": "text/x-python",
   "name": "python",
   "nbconvert_exporter": "python",
   "pygments_lexer": "ipython3",
   "version": "3.10.9"
  },
  "vscode": {
   "interpreter": {
    "hash": "259a389b4057ccde35404af821e33afdf5883d9f2d987c370b23bfef9f2c3eb5"
   }
  }
 },
 "nbformat": 4,
 "nbformat_minor": 2
}
